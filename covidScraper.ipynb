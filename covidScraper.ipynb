{
 "cells": [
  {
   "cell_type": "code",
   "execution_count": 21,
   "metadata": {
    "scrolled": true
   },
   "outputs": [
    {
     "name": "stdout",
     "output_type": "stream",
     "text": [
      "page status code: 200\n",
      "Last Update: March 26, 2020 | 1:49PM\n"
     ]
    }
   ],
   "source": [
    "#################################################################\n",
    "# This file collets data from https://coronavirus.health.ny.gov #\n",
    "# website. GT 3/27/2020. \n",
    "#################################################################\n",
    "\n",
    "from requests import get\n",
    "from bs4 import BeautifulSoup\n",
    "import pandas as pd\n",
    "from datetime import datetime\n",
    "\n",
    "# downlad a page and print out some content of it\n",
    "url = 'https://coronavirus.health.ny.gov/county-county-breakdown-positive-cases'\n",
    "page = get(url)\n",
    "# print(page.text[:500])\n",
    "print('page status code: %s' % page.status_code)\n",
    "      \n",
    "# parsing the page with bs4\n",
    "soup = BeautifulSoup(page.content, 'html.parser')\n",
    "# soup\n",
    "\n",
    "# finding the date of the update on the site\n",
    "# and converting it to file name\n",
    "# the line below creates a bs4 object then converts it to str\n",
    "updateDate = soup.find('div',\n",
    "             attrs={'class':'wysiwyg--field-webny-wysiwyg-title'}).text\n",
    "print(updateDate)\n",
    "(text, date) = updateDate.split(': ')\n",
    "# print(date)\n",
    "date0 = datetime.strptime(date, '%B %d, %Y | %I:%M%p')\n",
    "# print(date0)\n",
    "dateStr = datetime.strftime(date0, '%Y_%m_%d__%H_%M')\n",
    "fileName = dateStr  \n",
    "\n",
    "# using `find_all` method to find the data table \n",
    "tables = soup.find_all('table')\n",
    "      \n",
    "# prepping dataframe by convering `tables` to list \n",
    "# cool factor: reading bs4 ResultSet with Pandas\n",
    "# https://pythonprogramminglanguage.com/web-scraping-with-pandas-and-beautifulsoup/\n",
    "\n",
    "tablelist = pd.read_html(str(tables))\n",
    "      \n",
    "# dump it to csv\n",
    "path = ('c:/Users/Gergo_PC/Documents/code/webscraping/covidData/')\n",
    "tablelist[0].to_csv(path+text+fileName+'.csv')"
   ]
  },
  {
   "cell_type": "code",
   "execution_count": null,
   "metadata": {},
   "outputs": [],
   "source": []
  }
 ],
 "metadata": {
  "kernelspec": {
   "display_name": "Python 3",
   "language": "python",
   "name": "python3"
  },
  "language_info": {
   "codemirror_mode": {
    "name": "ipython",
    "version": 3
   },
   "file_extension": ".py",
   "mimetype": "text/x-python",
   "name": "python",
   "nbconvert_exporter": "python",
   "pygments_lexer": "ipython3",
   "version": "3.6.10"
  }
 },
 "nbformat": 4,
 "nbformat_minor": 4
}
